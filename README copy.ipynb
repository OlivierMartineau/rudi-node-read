{
 "cells": [
  {
   "attachments": {},
   "cell_type": "markdown",
   "metadata": {},
   "source": [
    "# RUDI Node tools: *rudinode-read* library\n",
    "This library offers tools to take advantage of the [external API](https://app.swaggerhub.com/apis/OlivierMartineau/RUDI-PRODUCER) of a RUDI Producer node (also referred as RUDI node).\n",
    "\n",
    "## Initialization (optional)\n",
    "You man need to install the dev requirements to be able to run this Python notebook from the source.\n",
    "If not, skip the box bellow."
   ]
  },
  {
   "cell_type": "code",
   "execution_count": 5,
   "metadata": {
    "vscode": {
     "languageId": "shellscript"
    }
   },
   "outputs": [
    {
     "name": "stdout",
     "output_type": "stream",
     "text": [
      "Requirement already satisfied: black==24.4.2 in ./.venv/lib/python3.11/site-packages (from -r requirements-dev.txt (line 1)) (24.4.2)\n",
      "Requirement already satisfied: build==1.2.1 in ./.venv/lib/python3.11/site-packages (from -r requirements-dev.txt (line 2)) (1.2.1)\n",
      "Requirement already satisfied: commitizen==3.27.0 in ./.venv/lib/python3.11/site-packages (from -r requirements-dev.txt (line 3)) (3.27.0)\n",
      "Requirement already satisfied: ipykernel==6.29.4 in ./.venv/lib/python3.11/site-packages (from -r requirements-dev.txt (line 4)) (6.29.4)\n",
      "Requirement already satisfied: pip-chill==1.0.3 in ./.venv/lib/python3.11/site-packages (from -r requirements-dev.txt (line 5)) (1.0.3)\n",
      "Requirement already satisfied: pip3-autoremove==1.2.2 in ./.venv/lib/python3.11/site-packages (from -r requirements-dev.txt (line 6)) (1.2.2)\n",
      "Requirement already satisfied: pre-commit==3.7.1 in ./.venv/lib/python3.11/site-packages (from -r requirements-dev.txt (line 7)) (3.7.1)\n",
      "Requirement already satisfied: pytest-cov==5.0.0 in ./.venv/lib/python3.11/site-packages (from -r requirements-dev.txt (line 8)) (5.0.0)\n",
      "Requirement already satisfied: twine==5.1.0 in ./.venv/lib/python3.11/site-packages (from -r requirements-dev.txt (line 9)) (5.1.0)\n",
      "Requirement already satisfied: click>=8.0.0 in ./.venv/lib/python3.11/site-packages (from black==24.4.2->-r requirements-dev.txt (line 1)) (8.1.7)\n",
      "Requirement already satisfied: mypy-extensions>=0.4.3 in ./.venv/lib/python3.11/site-packages (from black==24.4.2->-r requirements-dev.txt (line 1)) (1.0.0)\n",
      "Requirement already satisfied: packaging>=22.0 in ./.venv/lib/python3.11/site-packages (from black==24.4.2->-r requirements-dev.txt (line 1)) (24.0)\n",
      "Requirement already satisfied: pathspec>=0.9.0 in ./.venv/lib/python3.11/site-packages (from black==24.4.2->-r requirements-dev.txt (line 1)) (0.12.1)\n",
      "Requirement already satisfied: platformdirs>=2 in ./.venv/lib/python3.11/site-packages (from black==24.4.2->-r requirements-dev.txt (line 1)) (4.2.2)\n",
      "Requirement already satisfied: pyproject_hooks in ./.venv/lib/python3.11/site-packages (from build==1.2.1->-r requirements-dev.txt (line 2)) (1.1.0)\n",
      "Requirement already satisfied: argcomplete<3.4,>=1.12.1 in ./.venv/lib/python3.11/site-packages (from commitizen==3.27.0->-r requirements-dev.txt (line 3)) (3.3.0)\n",
      "Requirement already satisfied: charset-normalizer<4,>=2.1.0 in ./.venv/lib/python3.11/site-packages (from commitizen==3.27.0->-r requirements-dev.txt (line 3)) (3.3.2)\n",
      "Requirement already satisfied: colorama<0.5.0,>=0.4.1 in ./.venv/lib/python3.11/site-packages (from commitizen==3.27.0->-r requirements-dev.txt (line 3)) (0.4.6)\n",
      "Requirement already satisfied: decli<0.7.0,>=0.6.0 in ./.venv/lib/python3.11/site-packages (from commitizen==3.27.0->-r requirements-dev.txt (line 3)) (0.6.2)\n",
      "Requirement already satisfied: importlib_metadata<8,>=4.13 in ./.venv/lib/python3.11/site-packages (from commitizen==3.27.0->-r requirements-dev.txt (line 3)) (7.1.0)\n",
      "Requirement already satisfied: jinja2>=2.10.3 in ./.venv/lib/python3.11/site-packages (from commitizen==3.27.0->-r requirements-dev.txt (line 3)) (3.1.4)\n",
      "Requirement already satisfied: pyyaml>=3.08 in ./.venv/lib/python3.11/site-packages (from commitizen==3.27.0->-r requirements-dev.txt (line 3)) (6.0.1)\n",
      "Requirement already satisfied: questionary<3.0,>=2.0 in ./.venv/lib/python3.11/site-packages (from commitizen==3.27.0->-r requirements-dev.txt (line 3)) (2.1.0)\n",
      "Requirement already satisfied: termcolor<3,>=1.1 in ./.venv/lib/python3.11/site-packages (from commitizen==3.27.0->-r requirements-dev.txt (line 3)) (2.4.0)\n",
      "Requirement already satisfied: tomlkit<1.0.0,>=0.5.3 in ./.venv/lib/python3.11/site-packages (from commitizen==3.27.0->-r requirements-dev.txt (line 3)) (0.12.5)\n",
      "Requirement already satisfied: appnope in ./.venv/lib/python3.11/site-packages (from ipykernel==6.29.4->-r requirements-dev.txt (line 4)) (0.1.4)\n",
      "Requirement already satisfied: comm>=0.1.1 in ./.venv/lib/python3.11/site-packages (from ipykernel==6.29.4->-r requirements-dev.txt (line 4)) (0.2.2)\n",
      "Requirement already satisfied: debugpy>=1.6.5 in ./.venv/lib/python3.11/site-packages (from ipykernel==6.29.4->-r requirements-dev.txt (line 4)) (1.8.1)\n",
      "Requirement already satisfied: ipython>=7.23.1 in ./.venv/lib/python3.11/site-packages (from ipykernel==6.29.4->-r requirements-dev.txt (line 4)) (8.25.0)\n",
      "Requirement already satisfied: jupyter-client>=6.1.12 in ./.venv/lib/python3.11/site-packages (from ipykernel==6.29.4->-r requirements-dev.txt (line 4)) (8.6.2)\n",
      "Requirement already satisfied: jupyter-core!=5.0.*,>=4.12 in ./.venv/lib/python3.11/site-packages (from ipykernel==6.29.4->-r requirements-dev.txt (line 4)) (5.7.2)\n",
      "Requirement already satisfied: matplotlib-inline>=0.1 in ./.venv/lib/python3.11/site-packages (from ipykernel==6.29.4->-r requirements-dev.txt (line 4)) (0.1.7)\n",
      "Requirement already satisfied: nest-asyncio in ./.venv/lib/python3.11/site-packages (from ipykernel==6.29.4->-r requirements-dev.txt (line 4)) (1.6.0)\n",
      "Requirement already satisfied: psutil in ./.venv/lib/python3.11/site-packages (from ipykernel==6.29.4->-r requirements-dev.txt (line 4)) (5.9.8)\n",
      "Requirement already satisfied: pyzmq>=24 in ./.venv/lib/python3.11/site-packages (from ipykernel==6.29.4->-r requirements-dev.txt (line 4)) (26.0.3)\n",
      "Requirement already satisfied: tornado>=6.1 in ./.venv/lib/python3.11/site-packages (from ipykernel==6.29.4->-r requirements-dev.txt (line 4)) (6.4)\n",
      "Requirement already satisfied: traitlets>=5.4.0 in ./.venv/lib/python3.11/site-packages (from ipykernel==6.29.4->-r requirements-dev.txt (line 4)) (5.14.3)\n",
      "Requirement already satisfied: pip in ./.venv/lib/python3.11/site-packages (from pip3-autoremove==1.2.2->-r requirements-dev.txt (line 6)) (24.3.1)\n",
      "Requirement already satisfied: setuptools in ./.venv/lib/python3.11/site-packages (from pip3-autoremove==1.2.2->-r requirements-dev.txt (line 6)) (75.6.0)\n",
      "Requirement already satisfied: cfgv>=2.0.0 in ./.venv/lib/python3.11/site-packages (from pre-commit==3.7.1->-r requirements-dev.txt (line 7)) (3.4.0)\n",
      "Requirement already satisfied: identify>=1.0.0 in ./.venv/lib/python3.11/site-packages (from pre-commit==3.7.1->-r requirements-dev.txt (line 7)) (2.5.36)\n",
      "Requirement already satisfied: nodeenv>=0.11.1 in ./.venv/lib/python3.11/site-packages (from pre-commit==3.7.1->-r requirements-dev.txt (line 7)) (1.9.0)\n",
      "Requirement already satisfied: virtualenv>=20.10.0 in ./.venv/lib/python3.11/site-packages (from pre-commit==3.7.1->-r requirements-dev.txt (line 7)) (20.26.2)\n",
      "Requirement already satisfied: pytest>=4.6 in ./.venv/lib/python3.11/site-packages (from pytest-cov==5.0.0->-r requirements-dev.txt (line 8)) (8.2.2)\n",
      "Requirement already satisfied: coverage>=5.2.1 in ./.venv/lib/python3.11/site-packages (from coverage[toml]>=5.2.1->pytest-cov==5.0.0->-r requirements-dev.txt (line 8)) (7.5.3)\n",
      "Requirement already satisfied: pkginfo>=1.8.1 in ./.venv/lib/python3.11/site-packages (from twine==5.1.0->-r requirements-dev.txt (line 9)) (1.11.0)\n",
      "Requirement already satisfied: readme-renderer>=35.0 in ./.venv/lib/python3.11/site-packages (from twine==5.1.0->-r requirements-dev.txt (line 9)) (43.0)\n",
      "Requirement already satisfied: requests>=2.20 in ./.venv/lib/python3.11/site-packages (from twine==5.1.0->-r requirements-dev.txt (line 9)) (2.32.3)\n",
      "Requirement already satisfied: requests-toolbelt!=0.9.0,>=0.8.0 in ./.venv/lib/python3.11/site-packages (from twine==5.1.0->-r requirements-dev.txt (line 9)) (1.0.0)\n",
      "Requirement already satisfied: urllib3>=1.26.0 in ./.venv/lib/python3.11/site-packages (from twine==5.1.0->-r requirements-dev.txt (line 9)) (2.2.1)\n",
      "Requirement already satisfied: keyring>=15.1 in ./.venv/lib/python3.11/site-packages (from twine==5.1.0->-r requirements-dev.txt (line 9)) (25.2.1)\n",
      "Requirement already satisfied: rfc3986>=1.4.0 in ./.venv/lib/python3.11/site-packages (from twine==5.1.0->-r requirements-dev.txt (line 9)) (2.0.0)\n",
      "Requirement already satisfied: rich>=12.0.0 in ./.venv/lib/python3.11/site-packages (from twine==5.1.0->-r requirements-dev.txt (line 9)) (13.7.1)\n",
      "Requirement already satisfied: zipp>=0.5 in ./.venv/lib/python3.11/site-packages (from importlib_metadata<8,>=4.13->commitizen==3.27.0->-r requirements-dev.txt (line 3)) (3.19.1)\n",
      "Requirement already satisfied: decorator in ./.venv/lib/python3.11/site-packages (from ipython>=7.23.1->ipykernel==6.29.4->-r requirements-dev.txt (line 4)) (5.1.1)\n",
      "Requirement already satisfied: jedi>=0.16 in ./.venv/lib/python3.11/site-packages (from ipython>=7.23.1->ipykernel==6.29.4->-r requirements-dev.txt (line 4)) (0.19.1)\n",
      "Requirement already satisfied: prompt-toolkit<3.1.0,>=3.0.41 in ./.venv/lib/python3.11/site-packages (from ipython>=7.23.1->ipykernel==6.29.4->-r requirements-dev.txt (line 4)) (3.0.46)\n",
      "Requirement already satisfied: pygments>=2.4.0 in ./.venv/lib/python3.11/site-packages (from ipython>=7.23.1->ipykernel==6.29.4->-r requirements-dev.txt (line 4)) (2.18.0)\n",
      "Requirement already satisfied: stack-data in ./.venv/lib/python3.11/site-packages (from ipython>=7.23.1->ipykernel==6.29.4->-r requirements-dev.txt (line 4)) (0.6.3)\n",
      "Requirement already satisfied: typing-extensions>=4.6 in ./.venv/lib/python3.11/site-packages (from ipython>=7.23.1->ipykernel==6.29.4->-r requirements-dev.txt (line 4)) (4.12.1)\n",
      "Requirement already satisfied: pexpect>4.3 in ./.venv/lib/python3.11/site-packages (from ipython>=7.23.1->ipykernel==6.29.4->-r requirements-dev.txt (line 4)) (4.9.0)\n",
      "Requirement already satisfied: MarkupSafe>=2.0 in ./.venv/lib/python3.11/site-packages (from jinja2>=2.10.3->commitizen==3.27.0->-r requirements-dev.txt (line 3)) (2.1.5)\n",
      "Requirement already satisfied: python-dateutil>=2.8.2 in ./.venv/lib/python3.11/site-packages (from jupyter-client>=6.1.12->ipykernel==6.29.4->-r requirements-dev.txt (line 4)) (2.9.0.post0)\n",
      "Requirement already satisfied: jaraco.classes in ./.venv/lib/python3.11/site-packages (from keyring>=15.1->twine==5.1.0->-r requirements-dev.txt (line 9)) (3.4.0)\n",
      "Requirement already satisfied: jaraco.functools in ./.venv/lib/python3.11/site-packages (from keyring>=15.1->twine==5.1.0->-r requirements-dev.txt (line 9)) (4.0.1)\n",
      "Requirement already satisfied: jaraco.context in ./.venv/lib/python3.11/site-packages (from keyring>=15.1->twine==5.1.0->-r requirements-dev.txt (line 9)) (5.3.0)\n",
      "Requirement already satisfied: iniconfig in ./.venv/lib/python3.11/site-packages (from pytest>=4.6->pytest-cov==5.0.0->-r requirements-dev.txt (line 8)) (2.0.0)\n",
      "Requirement already satisfied: pluggy<2.0,>=1.5 in ./.venv/lib/python3.11/site-packages (from pytest>=4.6->pytest-cov==5.0.0->-r requirements-dev.txt (line 8)) (1.5.0)\n",
      "Requirement already satisfied: nh3>=0.2.14 in ./.venv/lib/python3.11/site-packages (from readme-renderer>=35.0->twine==5.1.0->-r requirements-dev.txt (line 9)) (0.2.17)\n",
      "Requirement already satisfied: docutils>=0.13.1 in ./.venv/lib/python3.11/site-packages (from readme-renderer>=35.0->twine==5.1.0->-r requirements-dev.txt (line 9)) (0.21.2)\n",
      "Requirement already satisfied: idna<4,>=2.5 in ./.venv/lib/python3.11/site-packages (from requests>=2.20->twine==5.1.0->-r requirements-dev.txt (line 9)) (3.7)\n",
      "Requirement already satisfied: certifi>=2017.4.17 in ./.venv/lib/python3.11/site-packages (from requests>=2.20->twine==5.1.0->-r requirements-dev.txt (line 9)) (2024.6.2)\n",
      "Requirement already satisfied: markdown-it-py>=2.2.0 in ./.venv/lib/python3.11/site-packages (from rich>=12.0.0->twine==5.1.0->-r requirements-dev.txt (line 9)) (3.0.0)\n",
      "Requirement already satisfied: distlib<1,>=0.3.7 in ./.venv/lib/python3.11/site-packages (from virtualenv>=20.10.0->pre-commit==3.7.1->-r requirements-dev.txt (line 7)) (0.3.8)\n",
      "Requirement already satisfied: filelock<4,>=3.12.2 in ./.venv/lib/python3.11/site-packages (from virtualenv>=20.10.0->pre-commit==3.7.1->-r requirements-dev.txt (line 7)) (3.14.0)\n",
      "Requirement already satisfied: parso<0.9.0,>=0.8.3 in ./.venv/lib/python3.11/site-packages (from jedi>=0.16->ipython>=7.23.1->ipykernel==6.29.4->-r requirements-dev.txt (line 4)) (0.8.4)\n",
      "Requirement already satisfied: mdurl~=0.1 in ./.venv/lib/python3.11/site-packages (from markdown-it-py>=2.2.0->rich>=12.0.0->twine==5.1.0->-r requirements-dev.txt (line 9)) (0.1.2)\n",
      "Requirement already satisfied: ptyprocess>=0.5 in ./.venv/lib/python3.11/site-packages (from pexpect>4.3->ipython>=7.23.1->ipykernel==6.29.4->-r requirements-dev.txt (line 4)) (0.7.0)\n",
      "Requirement already satisfied: wcwidth in ./.venv/lib/python3.11/site-packages (from prompt-toolkit<3.1.0,>=3.0.41->ipython>=7.23.1->ipykernel==6.29.4->-r requirements-dev.txt (line 4)) (0.2.13)\n",
      "Requirement already satisfied: six>=1.5 in ./.venv/lib/python3.11/site-packages (from python-dateutil>=2.8.2->jupyter-client>=6.1.12->ipykernel==6.29.4->-r requirements-dev.txt (line 4)) (1.16.0)\n",
      "Requirement already satisfied: more-itertools in ./.venv/lib/python3.11/site-packages (from jaraco.classes->keyring>=15.1->twine==5.1.0->-r requirements-dev.txt (line 9)) (10.2.0)\n",
      "Requirement already satisfied: backports.tarfile in ./.venv/lib/python3.11/site-packages (from jaraco.context->keyring>=15.1->twine==5.1.0->-r requirements-dev.txt (line 9)) (1.2.0)\n",
      "Requirement already satisfied: executing>=1.2.0 in ./.venv/lib/python3.11/site-packages (from stack-data->ipython>=7.23.1->ipykernel==6.29.4->-r requirements-dev.txt (line 4)) (2.0.1)\n",
      "Requirement already satisfied: asttokens>=2.1.0 in ./.venv/lib/python3.11/site-packages (from stack-data->ipython>=7.23.1->ipykernel==6.29.4->-r requirements-dev.txt (line 4)) (2.4.1)\n",
      "Requirement already satisfied: pure-eval in ./.venv/lib/python3.11/site-packages (from stack-data->ipython>=7.23.1->ipykernel==6.29.4->-r requirements-dev.txt (line 4)) (0.2.2)\n"
     ]
    },
    {
     "name": "stderr",
     "output_type": "stream",
     "text": [
      "\n",
      "\u001b[1m[\u001b[0m\u001b[34;49mnotice\u001b[0m\u001b[1;39;49m]\u001b[0m\u001b[39;49m A new release of pip is available: \u001b[0m\u001b[31;49m24.3.1\u001b[0m\u001b[39;49m -> \u001b[0m\u001b[32;49m25.0\u001b[0m\n",
      "\u001b[1m[\u001b[0m\u001b[34;49mnotice\u001b[0m\u001b[1;39;49m]\u001b[0m\u001b[39;49m To update, run: \u001b[0m\u001b[32;49mpip install --upgrade pip\u001b[0m\n"
     ]
    }
   ],
   "source": [
    "%%sh\n",
    "python3 -m venv .venv\n",
    "source .venv/bin/activate\n",
    "pip install -r requirements-dev.txt"
   ]
  },
  {
   "cell_type": "markdown",
   "metadata": {},
   "source": [
    "You may also need to include the sources path to the PATH environment variable for the subsequent code to run correctly.\n",
    "If not, skip th ebox bellow."
   ]
  },
  {
   "cell_type": "code",
   "execution_count": 6,
   "metadata": {
    "vscode": {
     "languageId": "shellscript"
    }
   },
   "outputs": [
    {
     "name": "stdout",
     "output_type": "stream",
     "text": [
      "/Users/omartine/Wk/Dev/_Projets/Rudi/rudinode-libs/rudinode-read\n"
     ]
    }
   ],
   "source": [
    "import os\n",
    "import sys\n",
    "\n",
    "print(os.getcwd())\n",
    "sys.path.append('./src')"
   ]
  },
  {
   "cell_type": "markdown",
   "metadata": {},
   "source": [
    "## Initializing the `RudiNodeReader` object\n",
    "File [rudi_node_reader.py](https://github.com/OlivierMartineau/rudi-node-read/blob/release/src/rudi_node_read/rudi_node_reader.py) contains a class `RudiNodeReader` that makes it easier \n",
    "to access the data and metadata on a RUDI Producer node.\n",
    "This class fetches all the metadata once and let you access the resulting metadata.\n",
    "\n",
    "The object only takes the RUDI node URL as a parameter.\n",
    "You can optionaly give some identifier that will be used for every request made to the node.\n",
    "\n",
    "RUDI node external API does not need any identification. But you can give an indication in the request header."
   ]
  },
  {
   "cell_type": "code",
   "execution_count": 7,
   "metadata": {},
   "outputs": [
    {
     "name": "stdout",
     "output_type": "stream",
     "text": [
      "D 2025-01-30 11:09:15 [RudiNodeReader.__init__] connecting\n",
      "D 2025-01-30 11:09:15 [Connector] base_url: http://127.0.0.1:3030\n",
      "D 2025-01-30 11:09:15 [RudiNodeConnector.request] to: http://127.0.0.1:3030/api/admin/hash\n",
      "D 2025-01-30 11:09:15 [('RudiNodeConnector',)] redirection to /catalog/admin/hash\n",
      "D 2025-01-30 11:09:15 [('RudiNodeConnector',)] base_url:: http://127.0.0.1:3030\n",
      "D 2025-01-30 11:09:15 [('RudiNodeConnector',)] replaced:: /catalog/\n",
      "D 2025-01-30 11:09:15 [('RudiNodeConnector',)] base_url:: http://127.0.0.1:3030\n",
      "D 2025-01-30 11:09:15 [RudiNodeConnector.request] to: http://127.0.0.1:3030/catalog/admin/hash\n",
      "D 2025-01-30 11:09:15 [('RudiNodeConnector',)] Node '127.0.0.1:3030': redirection OK\n",
      "D 2025-01-30 11:09:15 [('RudiNodeConnector',)] Node '127.0.0.1:3030': connection OK\n",
      "D 2025-01-30 11:09:15 [RudiNodeReader.__init__] {\"scheme\": \"http\", \"host\": \"127.0.0.1:3030\", \"path\": \"\", \"base_url\": \"http://127.0.0.1:3030\", \"_headers\": {\"User-Agent\": \"RudiNodeGet-OM\", \"Content-type\": \"text/plain\", \"Accept\": \"application/json\"}, \"_prefix\": \"/catalog\"}\n"
     ]
    }
   ],
   "source": [
    "from rudi_node_read.rudi_node_reader import RudiNodeReader\n",
    "\n",
    "rudi_node_url = 'http://127.0.0.1:3030'\n",
    "rudi_node_info = RudiNodeReader(server_url=rudi_node_url, headers_user_agent='RudiNodeGet-OM')"
   ]
  },
  {
   "cell_type": "markdown",
   "metadata": {},
   "source": [
    "## Access to metadata information\n",
    "The `RudiNodeReader` object lets you access and take advantage of the metadata stored on the node:\n",
    "- access to the full list of metadata"
   ]
  },
  {
   "cell_type": "code",
   "execution_count": 8,
   "metadata": {},
   "outputs": [
    {
     "name": "stdout",
     "output_type": "stream",
     "text": [
      "D 2025-01-30 11:09:15 [RudiNodeConnector.request] to: http://127.0.0.1:3030/catalog/v1/resources?limit=1\n",
      "RudiNode info metadata nb: 2\n",
      "D 2025-01-30 11:09:15 [RudiNodeConnector.request] to: http://127.0.0.1:3030/catalog/v1/resources?limit=1\n",
      "D 2025-01-30 11:09:15 [RudiNodeConnector.request] to: http://127.0.0.1:3030/catalog/v1/resources?sort_by=-updatedAt&limit=2&offset=0\n",
      "D 2025-01-30 11:09:15 [get_metadata_list] total: 2\n",
      "D 2025-01-30 11:09:15 [get_metadata_list] len: 2\n",
      "RudiNode info metadata list nb: 2\n",
      "RudiNode info metadata 1: {'global_id': 'e717bc56-9027-4828-b3a9-ad81b5200409', 'local_id': 'id-prod-manager-soft-checks', 'resource_title': 'test CA 2009 - Ville de Rennes - Budget Principal', 'synopsis': [{'lang': 'fr', 'text': \"Les données du Compte administratif de la Ville de Rennes sont des données de consommation effective qui sont en général publiées en juin de l'année suivante.\"}], 'summary': [{'lang': 'fr', 'text': \"Les données du Compte administratif de la Ville de Rennes sont des données de consommation effective qui sont en général publiées en juin de l'année suivante.\"}], 'theme': 'economy', 'keywords': ['budget', 'CA', 'Compte administratif'], 'collection_tag': 'prod-manager-soft-checks', 'producer': {'organization_id': 'b7687eb8-3c1e-4b56-bf6c-42ef3adc9aeb', 'organization_name': 'UR1'}, 'contacts': [{'contact_id': 'b06c3183-458b-4c63-9842-da8c7dbf14b7', 'contact_name': 'Toto', 'email': 'toto@irisa.fr'}], 'available_formats': [{'checksum': {'algo': 'MD5', 'hash': '2bbf2076ba604188be40e41584d830ee'}, 'media_dates': {'created': '2025-01-14T11:47:45.760Z', 'updated': '2025-01-14T11:47:45.760Z'}, 'connector': {'url': 'https://data-rudi.aqmo.org/media/download/6ccbd350-c780-41e8-be51-cef47401fb4a', 'interface_contract': 'dwnl'}, 'media_id': '6ccbd350-c780-41e8-be51-cef47401fb4a', 'media_type': 'FILE', 'media_name': 'media-prod-manager-soft-checks', 'collection_tag': 'prod-manager-soft-checks', 'file_type': 'application/json', 'file_size': 202502, 'file_storage_status': 'missing', 'file_status_update': '2025-01-14T10:35:57.806Z'}], 'resource_languages': ['fr'], 'dataset_dates': {'created': '2015-04-05T00:00:00.000Z', 'updated': '2017-04-05T09:22:33.000Z'}, 'storage_status': 'pending', 'access_condition': {'licence': {'licence_type': 'STANDARD', 'licence_label': 'odbl-1.0'}, 'confidentiality': {'restricted_access': False, 'gdpr_sensitive': False}}, 'metadata_info': {'api_version': '1.3.0', 'metadata_dates': {}}, 'metadata_status': 'incomplete'}\n"
     ]
    }
   ],
   "source": [
    "info_tag = 'RudiNode info'\n",
    "\n",
    "print(info_tag, 'metadata nb:', rudi_node_info.metadata_count)\n",
    "print(info_tag, 'metadata list nb:', len(rudi_node_info.metadata_list))\n",
    "print(info_tag, 'metadata 1:', rudi_node_info.metadata_list[0])"
   ]
  },
  {
   "cell_type": "markdown",
   "metadata": {},
   "source": [
    "- access to the producers and contacts information"
   ]
  },
  {
   "cell_type": "code",
   "execution_count": 9,
   "metadata": {},
   "outputs": [
    {
     "name": "stdout",
     "output_type": "stream",
     "text": [
      "RudiNode info list of producers: [{'organization_id': 'b7687eb8-3c1e-4b56-bf6c-42ef3adc9aeb', 'organization_name': 'UR1'}]\n",
      "RudiNode info producer names: ['UR1']\n",
      "RudiNode info list of contacts: [{'contact_id': 'b06c3183-458b-4c63-9842-da8c7dbf14b7', 'contact_name': 'Toto', 'email': 'toto@irisa.fr'}]\n",
      "RudiNode info contact names: ['Toto']\n"
     ]
    }
   ],
   "source": [
    "print(info_tag, 'list of producers:', rudi_node_info.organization_list)\n",
    "print(info_tag, 'producer names:', rudi_node_info.organization_names)\n",
    "\n",
    "print(info_tag, 'list of contacts:', rudi_node_info.contact_list)\n",
    "print(info_tag, 'contact names:', rudi_node_info.contact_names)"
   ]
  },
  {
   "cell_type": "markdown",
   "metadata": {},
   "source": [
    "- access to the classification tags"
   ]
  },
  {
   "cell_type": "code",
   "execution_count": 10,
   "metadata": {},
   "outputs": [
    {
     "name": "stdout",
     "output_type": "stream",
     "text": [
      "RudiNode info themes: ['children', 'economy']\n",
      "RudiNode info keywords: ['CA', 'Compte administratif', 'budget', 'test']\n"
     ]
    }
   ],
   "source": [
    "print(info_tag, 'themes:', rudi_node_info.themes)\n",
    "print(info_tag, 'keywords:', rudi_node_info.keywords)"
   ]
  },
  {
   "attachments": {},
   "cell_type": "markdown",
   "metadata": {},
   "source": [
    "## Filtering the metadata\n",
    "`RudiNodeReader` object offers some tools to filter the metadata with a partial JSON.\n",
    "> You will need to understand how a RUDI metadata is structured to create adequate filters. See RUDI node [external API](https://app.swaggerhub.com/apis/OlivierMartineau/RUDI-PRODUCER) documentation for this.\n",
    "\n",
    "> All the elements given in the filter are matched in the metadata that are kept in the end result of the filtering operation."
   ]
  },
  {
   "cell_type": "code",
   "execution_count": 11,
   "metadata": {},
   "outputs": [
    {
     "name": "stdout",
     "output_type": "stream",
     "text": [
      "Filtering metadata with JSON: []\n"
     ]
    }
   ],
   "source": [
    "filter_tag = 'Filtering metadata'\n",
    "example_filter = {'producer': {'organization_id': '1d6bc543-07ed-46f6-a813-958edb73d5f0', 'organization_name': 'SIB (Test)'}}\n",
    "print(filter_tag, 'with JSON:', rudi_node_info.filter_metadata(example_filter))"
   ]
  },
  {
   "cell_type": "markdown",
   "metadata": {},
   "source": [
    "Some shortcuts have been implemented to make it easier to filter the metadata:"
   ]
  },
  {
   "cell_type": "code",
   "execution_count": 12,
   "metadata": {},
   "outputs": [
    {
     "name": "stdout",
     "output_type": "stream",
     "text": [
      "Filtering metadata with producer name 'Univ. Rennes': []\n",
      "Filtering metadata with contact name 'Bacasable': []\n",
      "Filtering metadata with theme 'citizenship': []\n",
      "Filtering metadata with keywords '['répartition', 'Commune']': []\n",
      "Filtering metadata with available media: 1\n"
     ]
    }
   ],
   "source": [
    "\n",
    "meta_producer = 'Univ. Rennes'\n",
    "print(filter_tag, f\"with producer name '{meta_producer}':\", rudi_node_info.get_metadata_with_producer(meta_producer))\n",
    "\n",
    "meta_contact = 'Bacasable'\n",
    "print(filter_tag, f\"with contact name '{meta_contact}':\", rudi_node_info.get_metadata_with_contact(meta_contact))\n",
    "\n",
    "meta_theme = 'citizenship'\n",
    "print(filter_tag, f\"with theme '{meta_theme}':\", rudi_node_info.get_metadata_with_theme(meta_theme))\n",
    "\n",
    "meta_keywords = ['répartition', 'Commune']\n",
    "print(filter_tag, f\"with keywords '{meta_keywords}':\", rudi_node_info.get_metadata_with_keywords(meta_keywords))\n",
    "\n",
    "print(filter_tag, \"with available media:\", len(rudi_node_info.metadata_with_available_media))\n"
   ]
  },
  {
   "attachments": {},
   "cell_type": "markdown",
   "metadata": {},
   "source": [
    "Additional code is provided to find a metadata:"
   ]
  },
  {
   "cell_type": "code",
   "execution_count": 13,
   "metadata": {},
   "outputs": [
    {
     "name": "stdout",
     "output_type": "stream",
     "text": [
      "Finding a metadata with metadata uuid 'f48b4bcd-bba3-47ba-86e6-c0754b748728': None\n",
      "Finding a metadata with metadata title 'parcours pédestre sur la ville de rennes': None\n",
      "Finding a metadata with file name 'toucan.jpg': None\n",
      "Finding a metadata with file uuid '782bab2d-7ee8-4633-9c0a-173649b4d879': None\n"
     ]
    }
   ],
   "source": [
    "find_tag = 'Finding a metadata'\n",
    "\n",
    "meta_id = 'f48b4bcd-bba3-47ba-86e6-c0754b748728'\n",
    "print(find_tag, f\"with metadata uuid '{meta_id}':\", rudi_node_info.find_metadata_with_uuid(meta_id))\n",
    "\n",
    "meta_title = 'parcours pédestre sur la ville de rennes'\n",
    "print(find_tag, f\"with metadata title '{meta_title}':\", rudi_node_info.find_metadata_with_title(meta_title))\n",
    "\n",
    "file_name = 'toucan.jpg'\n",
    "print(find_tag, f\"with file name '{file_name}':\", rudi_node_info.find_metadata_with_media_name(file_name))\n",
    "\n",
    "file_uuid = '782bab2d-7ee8-4633-9c0a-173649b4d879'\n",
    "print(find_tag, f\"with file uuid '{file_uuid}':\", rudi_node_info.find_metadata_with_media_uuid(file_uuid))\n"
   ]
  },
  {
   "cell_type": "markdown",
   "metadata": {},
   "source": [
    "## Downloading a file\n",
    "`RudiNodeReader` object also provides a method to download the data stored on the node:"
   ]
  },
  {
   "cell_type": "code",
   "execution_count": 14,
   "metadata": {},
   "outputs": [
    {
     "name": "stdout",
     "output_type": "stream",
     "text": [
      "Downloading media with uuid '782bab2d-7ee8-4633-9c0a-173649b4d879': None\n",
      "Downloading media with name 'toucan.jpg': None\n",
      "Downloading media for metadata 'f48b4bcd-bba3-47ba-86e6-c0754b748728': None\n"
     ]
    }
   ],
   "source": [
    "dwnld_tag = 'Downloading'\n",
    "dwnld_dir = './dwnld'\n",
    "\n",
    "print(dwnld_tag, f\"media with uuid '{file_uuid}':\", rudi_node_info.download_file_with_uuid(file_uuid, dwnld_dir))\n",
    "print(dwnld_tag, f\"media with name '{file_name}':\", rudi_node_info.download_file_with_name(file_name, dwnld_dir))\n",
    "print(dwnld_tag, f\"media for metadata '{meta_id}':\", rudi_node_info.download_files_for_metadata(meta_id, dwnld_dir))\n"
   ]
  },
  {
   "attachments": {},
   "cell_type": "markdown",
   "metadata": {},
   "source": [
    "## Dumping the metadata into a file\n",
    "`RudiNodeReader` object also provides a method to dump the metadata into a local file:"
   ]
  },
  {
   "cell_type": "code",
   "execution_count": 15,
   "metadata": {},
   "outputs": [],
   "source": [
    "rudi_node_info.save_metadata_to_file(dwnld_dir, 'rudi_node_metadata.json')\n"
   ]
  },
  {
   "cell_type": "markdown",
   "metadata": {},
   "source": [
    "## Analysing the (meta)data on the RUDI node\n",
    "Example: extracting the proportions of file types on a RUDI node"
   ]
  },
  {
   "cell_type": "code",
   "execution_count": 16,
   "metadata": {},
   "outputs": [
    {
     "name": "stdout",
     "output_type": "stream",
     "text": [
      "2 files found on http://127.0.0.1:3030\n",
      "- application/json: 50.0%\n",
      "- video/mp4: 50.0%\n"
     ]
    }
   ],
   "source": [
    "list_formats = {\"total\":0}\n",
    "for metadata in rudi_node_info.metadata_list:\n",
    "  for media_file in metadata[\"available_formats\"]:\n",
    "    if media_file[\"media_type\"] == \"FILE\":\n",
    "      file_type = media_file[\"file_type\"]\n",
    "      if list_formats.get(file_type) is None:\n",
    "        list_formats[file_type] = 1\n",
    "      else:\n",
    "        list_formats[file_type] += 1\n",
    "      list_formats[\"total\"] += 1\n",
    "total_nb = list_formats[\"total\"]\n",
    "for mime_type, nb in list_formats.items():\n",
    "  if mime_type == 'total':\n",
    "    print(f\"{total_nb} files found on {rudi_node_url}\")\n",
    "  else:\n",
    "    print(f\"- {mime_type}: {round(nb/total_nb*100,2)}%\")"
   ]
  }
 ],
 "metadata": {
  "kernelspec": {
   "display_name": ".venv",
   "language": "python",
   "name": "python3"
  },
  "language_info": {
   "codemirror_mode": {
    "name": "ipython",
    "version": 3
   },
   "file_extension": ".py",
   "mimetype": "text/x-python",
   "name": "python",
   "nbconvert_exporter": "python",
   "pygments_lexer": "ipython3",
   "version": "3.11.11"
  }
 },
 "nbformat": 4,
 "nbformat_minor": 4
}
