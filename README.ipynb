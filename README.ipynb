{
  "cells": [
    {
      "cell_type": "markdown",
      "metadata": {},
      "source": [
        "# RUDI Node tools: *rudinode-get* library\n",
        "\n",
        "This library offers tools to take advantage of the [external API](https://app.swaggerhub.com/apis/OlivierMartineau/RUDI-PRODUCER) of a RUDI Producer node (also referred as RUDI node).\n",
        "\n",
        "File [rudi_node_getter.py](lib_rudi_meta/rudi_node_getter.py) contains a class `RudiNodeGetter` that makes it easier \n",
        "to access a RUDI Producer node data.\n",
        "This class fetches all the metadata once and let you access the resulting metadata.\n",
        "\n",
        "## Initializing the `RudiNodeGetter` object\n",
        "This object only takes the RUDI node URL as a parameter.\n",
        "You can optionaly give some identifier that will be used for every request made to the node.\n",
        "> RUDI node external API does not need any identification. But you can give an indication in the request header."
      ]
    },
    {
      "cell_type": "code",
      "execution_count": null,
      "metadata": {},
      "outputs": [],
      "source": [
        "from lib_rudi_meta.rudi_node_getter import RudiNodeGetter\n",
        "from utils.log import log_d\n",
        "\n",
        "rudi_node_url = 'https://bacasable.fenix.rudi-univ-rennes1.fr'\n",
        "rudi_node_info = RudiNodeGetter(server_url=rudi_node_url, headers_user_agent='RudiNodeGet-Example01')"
      ]
    },
    {
      "cell_type": "markdown",
      "metadata": {},
      "source": [
        "## Access to metadata information\n",
        "The `RudiNodeGetter` object lets you access and take advantage of the metadata stored on the node:\n",
        "- access to the full list of metadata"
      ]
    },
    {
      "cell_type": "code",
      "execution_count": null,
      "metadata": {},
      "outputs": [],
      "source": [
        "log_d('RudiNode info', 'metadata nb', rudi_node_info.metadata_count)\n",
        "log_d('RudiNode info', 'metadata list', rudi_node_info.metadata_list)\n",
        "log_d('RudiNode info', 'metadata 1', rudi_node_info.metadata_list[0])"
      ]
    },
    {
      "cell_type": "markdown",
      "metadata": {},
      "source": [
        "- access to the producers and contacts information"
      ]
    },
    {
      "cell_type": "code",
      "execution_count": null,
      "metadata": {},
      "outputs": [],
      "source": [
        "log_d('RudiNode info', 'list of producers', rudi_node_info.organization_list)\n",
        "log_d('RudiNode info', 'producer names', rudi_node_info.organization_names)\n",
        "\n",
        "log_d('RudiNode info', 'list of contacts', rudi_node_info.contact_list)\n",
        "log_d('RudiNode info', 'contact names', rudi_node_info.contact_names)"
      ]
    },
    {
      "cell_type": "markdown",
      "metadata": {},
      "source": [
        "- access to the classification tags"
      ]
    },
    {
      "cell_type": "code",
      "execution_count": null,
      "metadata": {},
      "outputs": [],
      "source": [
        "log_d('RudiNode info', 'themes', rudi_node_info.themes)\n",
        "log_d('RudiNode info', 'keywords', rudi_node_info.keywords)"
      ]
    },
    {
      "attachments": {},
      "cell_type": "markdown",
      "metadata": {},
      "source": [
        "## Filtering the metadata\n",
        "`RudiNodeGetter` object offers some tools to filter the metadata with a partial JSON.\n",
        "> You will need to understand how a RUDI metadata is structured to create adequate filters. See RUDI node [external API](https://app.swaggerhub.com/apis/OlivierMartineau/RUDI-PRODUCER) documentation for this.\n",
        "\n",
        "> All the elements given in the filter are matched in the metadata that are kept in the end result of the filtering operation."
      ]
    },
    {
      "cell_type": "code",
      "execution_count": null,
      "metadata": {},
      "outputs": [],
      "source": [
        "example_filter = {'producer': {'organization_id': '1d6bc543-07ed-46f6-a813-958edb73d5f0', 'organization_name': 'SIB (Test)'}}\n",
        "log_d('Metadata filter', 'filter metadata', rudi_node_info.filter_metadata(example_filter))"
      ]
    },
    {
      "cell_type": "markdown",
      "metadata": {},
      "source": [
        "Some shortcuts have been implemented to make it easier to filter the metadata:"
      ]
    },
    {
      "cell_type": "code",
      "execution_count": null,
      "metadata": {},
      "outputs": [],
      "source": [
        "\n",
        "producer_name = 'SIB (Test)'\n",
        "log_d('Metadata filter', \"metadata from producer '{producer_name}'\", \n",
        "        rudi_node_info.get_metadata_with_producer(producer_name))\n",
        "\n",
        "contact_name = 'Bacasable'\n",
        "log_d('Metadata filter', f\"metadata with contact '{contact_name}'\",\n",
        "        rudi_node_info.get_metadata_with_contact(contact_name))\n",
        "\n",
        "theme = 'citizenship'\n",
        "log_d('Metadata filter', f\"metadata with theme '{theme}'\", rudi_node_info.get_metadata_with_theme(theme))\n",
        "\n",
        "keywords = ['répartition', 'Commune']\n",
        "log_d('Metadata filter', f\"metadata with keywords '{keywords}'\", rudi_node_info.get_metadata_with_keywords(keywords))\n",
        "\n",
        "meta_id = 'f48b4bcd-bba3-47ba-86e6-c0754b748728'\n",
        "log_d('Metadata filter', f\"metadata with id '{meta_id}'\", rudi_node_info.get_metadata_with_id(meta_id))"
      ]
    },
    {
      "cell_type": "markdown",
      "metadata": {},
      "source": [
        "## Downloading a file\n",
        "`RudiNodeGetter` object also provides a method to download the data stored on the node:"
      ]
    },
    {
      "cell_type": "code",
      "execution_count": null,
      "metadata": {},
      "outputs": [],
      "source": [
        "log_d('Download files', f\"download_media_for_metadata '{meta_id}'\",\n",
        "      rudi_node_info.download_media_for_metadata(metadata_id=meta_id, local_download_dir='./1-dwnld'))"
      ]
    }
  ],
  "metadata": {
    "kernelspec": {
      "display_name": "venv",
      "language": "python",
      "name": "python3"
    },
    "language_info": {
      "codemirror_mode": {
        "name": "python",
        "version": 3
      },
      "file_extension": ".py",
      "mimetype": "text/x-python",
      "name": "python",
      "nbconvert_exporter": "python",
      "pygments_lexer": "ipython3",
      "version": "3.11.2"
    }
  },
  "nbformat": 4,
  "nbformat_minor": 4
}
