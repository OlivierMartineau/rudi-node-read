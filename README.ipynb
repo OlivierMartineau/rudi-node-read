{
 "cells": [
  {
   "attachments": {},
   "cell_type": "markdown",
   "metadata": {},
   "source": [
    "# RUDI Node tools: *rudinode-read* library\n",
    "\n",
    "This library offers tools to take advantage of the [external API](https://app.swaggerhub.com/apis/OlivierMartineau/RUDI-PRODUCER) of a RUDI Producer node (also referred as RUDI node).\n",
    "\n",
    "File [rudi_node_reader.py](lib_rudi_meta/rudi_node_reader.py) contains a class `RudiNodeReader` that makes it easier \n",
    "to access a RUDI Producer node data.\n",
    "This class fetches all the metadata once and let you access the resulting metadata.\n",
    "\n",
    "## Initializing the `RudiNodeReader` object\n",
    "This object only takes the RUDI node URL as a parameter.\n",
    "You can optionaly give some identifier that will be used for every request made to the node.\n",
    "> RUDI node external API does not need any identification. But you can give an indication in the request header."
   ]
  },
  {
   "cell_type": "code",
   "execution_count": null,
   "metadata": {},
   "outputs": [],
   "source": [
    "import os\n",
    "import sys\n",
    "\n",
    "print(os.getcwd())\n",
    "sys.path.append('./src')\n",
    "\n"
   ]
  },
  {
   "cell_type": "code",
   "execution_count": null,
   "metadata": {},
   "outputs": [],
   "source": [
    "from rudi_node_read.rudi_node_reader import RudiNodeReader\n",
    "from rudi_node_read.utils.log import log_d\n",
    "\n",
    "rudi_node_url = 'https://bacasable.fenix.rudi-univ-rennes1.fr'\n",
    "rudi_node_info = RudiNodeReader(server_url=rudi_node_url, headers_user_agent='RudiNodeGet-Example01')"
   ]
  },
  {
   "cell_type": "markdown",
   "metadata": {},
   "source": [
    "## Access to metadata information\n",
    "The `RudiNodeReader` object lets you access and take advantage of the metadata stored on the node:\n",
    "- access to the full list of metadata"
   ]
  },
  {
   "cell_type": "code",
   "execution_count": null,
   "metadata": {},
   "outputs": [],
   "source": [
    "info_tag = 'RudiNode info'\n",
    "\n",
    "log_d(info_tag, 'metadata nb', rudi_node_info.metadata_count)\n",
    "log_d(info_tag, 'metadata list nb', len(rudi_node_info.metadata_list))\n",
    "log_d(info_tag, 'metadata 1', rudi_node_info.metadata_list[0])"
   ]
  },
  {
   "cell_type": "markdown",
   "metadata": {},
   "source": [
    "- access to the producers and contacts information"
   ]
  },
  {
   "cell_type": "code",
   "execution_count": null,
   "metadata": {},
   "outputs": [],
   "source": [
    "log_d(info_tag, 'list of producers', rudi_node_info.organization_list)\n",
    "log_d(info_tag, 'producer names', rudi_node_info.organization_names)\n",
    "\n",
    "log_d(info_tag, 'list of contacts', rudi_node_info.contact_list)\n",
    "log_d(info_tag, 'contact names', rudi_node_info.contact_names)"
   ]
  },
  {
   "cell_type": "markdown",
   "metadata": {},
   "source": [
    "- access to the classification tags"
   ]
  },
  {
   "cell_type": "code",
   "execution_count": null,
   "metadata": {},
   "outputs": [],
   "source": [
    "log_d(info_tag, 'themes', rudi_node_info.themes)\n",
    "log_d(info_tag, 'keywords', rudi_node_info.keywords)"
   ]
  },
  {
   "attachments": {},
   "cell_type": "markdown",
   "metadata": {},
   "source": [
    "## Filtering the metadata\n",
    "`RudiNodeReader` object offers some tools to filter the metadata with a partial JSON.\n",
    "> You will need to understand how a RUDI metadata is structured to create adequate filters. See RUDI node [external API](https://app.swaggerhub.com/apis/OlivierMartineau/RUDI-PRODUCER) documentation for this.\n",
    "\n",
    "> All the elements given in the filter are matched in the metadata that are kept in the end result of the filtering operation."
   ]
  },
  {
   "cell_type": "code",
   "execution_count": null,
   "metadata": {},
   "outputs": [],
   "source": [
    "filter_tag = 'Filtering metadata'\n",
    "example_filter = {'producer': {'organization_id': '1d6bc543-07ed-46f6-a813-958edb73d5f0', 'organization_name': 'SIB (Test)'}}\n",
    "log_d(filter_tag, 'with JSON', rudi_node_info.filter_metadata(example_filter))"
   ]
  },
  {
   "cell_type": "markdown",
   "metadata": {},
   "source": [
    "Some shortcuts have been implemented to make it easier to filter the metadata:"
   ]
  },
  {
   "cell_type": "code",
   "execution_count": null,
   "metadata": {},
   "outputs": [],
   "source": [
    "\n",
    "meta_producer = 'Univ. Rennes'\n",
    "log_d(filter_tag, f\"with producer name '{meta_producer}'\", rudi_node_info.get_metadata_with_producer(meta_producer))\n",
    "\n",
    "meta_contact = 'Bacasable'\n",
    "log_d(filter_tag, f\"with contact name '{meta_contact}'\", rudi_node_info.get_metadata_with_contact(meta_contact))\n",
    "\n",
    "meta_theme = 'citizenship'\n",
    "log_d(filter_tag, f\"with theme '{meta_theme}'\", rudi_node_info.get_metadata_with_theme(meta_theme))\n",
    "\n",
    "meta_keywords = ['répartition', 'Commune']\n",
    "log_d(filter_tag, f\"with keywords '{meta_keywords}'\", rudi_node_info.get_metadata_with_keywords(meta_keywords))\n",
    "\n",
    "log_d(filter_tag, \"with available media\", len(rudi_node_info.metadata_with_available_media))\n"
   ]
  },
  {
   "attachments": {},
   "cell_type": "markdown",
   "metadata": {},
   "source": [
    "Additional code is provided to find a metadata:"
   ]
  },
  {
   "cell_type": "code",
   "execution_count": null,
   "metadata": {},
   "outputs": [],
   "source": [
    "find_tag = 'Finding a metadata'\n",
    "\n",
    "meta_id = 'f48b4bcd-bba3-47ba-86e6-c0754b748728'\n",
    "log_d(find_tag, f\"with metadata uuid '{meta_id}'\", rudi_node_info.find_metadata_with_uuid(meta_id))\n",
    "\n",
    "meta_title = 'parcours pédestre sur la ville de rennes'\n",
    "log_d(find_tag, f\"with metadata title '{meta_title}'\", rudi_node_info.find_metadata_with_title(meta_title))\n",
    "\n",
    "file_name = 'toucan.jpg'\n",
    "log_d(find_tag, f\"with file name '{file_name}'\", rudi_node_info.find_metadata_with_media_name(file_name))\n",
    "\n",
    "file_uuid = '782bab2d-7ee8-4633-9c0a-173649b4d879'\n",
    "log_d(find_tag, f\"with file uuid '{file_uuid}'\", rudi_node_info.find_metadata_with_media_uuid(file_uuid))\n"
   ]
  },
  {
   "cell_type": "markdown",
   "metadata": {},
   "source": [
    "## Downloading a file\n",
    "`RudiNodeReader` object also provides a method to download the data stored on the node:"
   ]
  },
  {
   "cell_type": "code",
   "execution_count": null,
   "metadata": {},
   "outputs": [],
   "source": [
    "dwnld_tag = 'Downloading'\n",
    "dwnld_dir = './dwnld'\n",
    "\n",
    "log_d(dwnld_tag, f\"media with uuid '{file_uuid}'\", rudi_node_info.download_file_with_uuid(file_uuid, dwnld_dir))\n",
    "log_d(dwnld_tag, f\"media with name '{file_name}'\", rudi_node_info.download_file_with_name(file_name, dwnld_dir))\n",
    "log_d(dwnld_tag, f\"media for metadata '{meta_id}'\", rudi_node_info.download_files_for_metadata(meta_id, dwnld_dir))\n"
   ]
  },
  {
   "attachments": {},
   "cell_type": "markdown",
   "metadata": {},
   "source": [
    "## Dumping the metadata into a file\n",
    "`RudiNodeReader` object also provides a method to dump the metadata into a local file:"
   ]
  },
  {
   "cell_type": "code",
   "execution_count": null,
   "metadata": {},
   "outputs": [],
   "source": [
    "rudi_node_info.save_metadata_to_file(dwnld_dir, 'rudi_node_metadata.json')\n"
   ]
  },
  {
   "cell_type": "markdown",
   "metadata": {},
   "source": [
    "## Analysing the (meta)data on the RUDI node\n",
    "Example: extracting the proportions of file types on a RUDI node"
   ]
  },
  {
   "cell_type": "code",
   "execution_count": null,
   "metadata": {},
   "outputs": [],
   "source": [
    "list_formats = {\"total\":0}\n",
    "for metadata in rudi_node_info.metadata_list:\n",
    "  for media_file in metadata[\"available_formats\"]:\n",
    "    if media_file[\"media_type\"] == \"FILE\":\n",
    "      file_type = media_file[\"file_type\"]\n",
    "      if list_formats.get(file_type) is None:\n",
    "        list_formats[file_type] = 1\n",
    "      else:\n",
    "        list_formats[file_type] += 1\n",
    "      list_formats[\"total\"] += 1\n",
    "total_nb = list_formats[\"total\"]\n",
    "for mime_type, nb in list_formats.items():\n",
    "  if mime_type == 'total':\n",
    "    print(f\"{total_nb} files found on {rudi_node_url}\")\n",
    "  else:\n",
    "    print(f\"- {mime_type}: {round(nb/total_nb*100,2)}%\")"
   ]
  }
 ],
 "metadata": {
  "kernelspec": {
   "display_name": "Python 3 (ipykernel)",
   "language": "python",
   "name": "python3"
  },
  "language_info": {
   "codemirror_mode": {
    "name": "ipython",
    "version": 3
   },
   "file_extension": ".py",
   "mimetype": "text/x-python",
   "name": "python",
   "nbconvert_exporter": "python",
   "pygments_lexer": "ipython3",
   "version": "3.11.4"
  }
 },
 "nbformat": 4,
 "nbformat_minor": 4
}
