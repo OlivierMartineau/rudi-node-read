{
  "metadata": {
    "language_info": {
      "codemirror_mode": {
        "name": "python",
        "version": 3
      },
      "file_extension": ".py",
      "mimetype": "text/x-python",
      "name": "python",
      "nbconvert_exporter": "python",
      "pygments_lexer": "ipython3",
      "version": "3.8"
    },
    "kernelspec": {
      "name": "python",
      "display_name": "Python (Pyodide)",
      "language": "python"
    }
  },
  "nbformat_minor": 4,
  "nbformat": 4,
  "cells": [
    {
      "cell_type": "markdown",
      "source": "# RUDI Node tools: *rudinode-get* library\n\nThis library offers tools to take advantage of the [external API](https://app.swaggerhub.com/apis/OlivierMartineau/RUDI-PRODUCER) of a RUDI Producer node (also referred as RUDI node).\n\nFile [rudi_node_getter.py](lib_rudi_meta/rudi_node_getter.py) contains a class `RudiNodeGetter` that makes it easier \nto access a RUDI Producer node data.\nThis class fetches all the metadata once and let you access the resulting metadata.\n\n## Initializing the `RudiNodeGetter` object\nThis object only takes the RUDI node URL as a parameter.\nYou can optionaly give some identifier that will be used for every request made to the node.\n> RUDI node external API does not need any identification. But you can give an indication in the request header.",
      "metadata": {}
    },
    {
      "cell_type": "code",
      "source": "from lib_rudi_meta.rudi_node_getter import RudiNodeGetter\nfrom utils.log import log_d\n\nrudi_node_url = 'https://bacasable.fenix.rudi-univ-rennes1.fr'\nrudi_node_info = RudiNodeGetter(server_url=rudi_node_url, headers_user_agent='RudiNodeGetExample01')",
      "metadata": {},
      "execution_count": null,
      "outputs": []
    },
    {
      "cell_type": "markdown",
      "source": "## Access to metadata information\nThe `RudiNodeGetter` object lets you access and take advantage of the metadata stored on the node:\n- access to the full list of metadata",
      "metadata": {}
    },
    {
      "cell_type": "code",
      "source": "log_d('RudiNode info', 'metadata nb', rudi_node_info.metadata_count)\nlog_d('RudiNode info', 'metadata list', rudi_node_info.metadata_list)\nlog_d('RudiNode info', 'metadata 1', rudi_node_info.metadata_list[0])",
      "metadata": {},
      "execution_count": null,
      "outputs": []
    },
    {
      "cell_type": "markdown",
      "source": "- access to the producers and contacts information",
      "metadata": {}
    },
    {
      "cell_type": "code",
      "source": "log_d('RudiNode info', 'list of producers', rudi_node_info.organization_list)\nlog_d('RudiNode info', 'producer names', rudi_node_info.organization_names)\n\nlog_d('RudiNode info', 'list of contacts', rudi_node_info.contact_list)\nlog_d('RudiNode info', 'contact names', rudi_node_info.contact_names)",
      "metadata": {},
      "execution_count": null,
      "outputs": []
    },
    {
      "cell_type": "markdown",
      "source": "- access to the classification tags",
      "metadata": {}
    },
    {
      "cell_type": "markdown",
      "source": "log_d('RudiNode info', 'themes', rudi_node_info.themes)\nlog_d('RudiNode info', 'keywords', rudi_node_info.keywords)",
      "metadata": {}
    },
    {
      "cell_type": "markdown",
      "source": "## Filtering the metadata\n`RudiNodeGetter` object offers some tools to filter the metadata with a partial JSON.\n> You will need to understand how a RUDI metadata is structured to create adequate filters. See RUDI node [external API](https://app.swaggerhub.com/apis/OlivierMartineau/RUDI-PRODUCER) documentation for this.\n> All the elements given in the filter will need to be matched in the metadata for it to be kept in the end result of the filtering operation.",
      "metadata": {}
    },
    {
      "cell_type": "code",
      "source": "example_filter = {'producer': {'organization_id': '1d6bc543-07ed-46f6-a813-958edb73d5f0', 'organization_name': 'SIB (Test)'}}\nlog_d('Metadata filter', 'filter metadata', rudi_node_info.filter_metadata(example_filter))",
      "metadata": {},
      "execution_count": null,
      "outputs": []
    },
    {
      "cell_type": "markdown",
      "source": "Some shortcuts have been implemented to make it easier to filter the metadata:",
      "metadata": {}
    },
    {
      "cell_type": "code",
      "source": "prod_name = 'SIB (Test)'\nlog_d('Metadata filter', 'metadata from producer', rudi_node_info.get_metadata_with_producer(prod_name))\ncont_name = 'Bacasable'\nlog_d('Metadata filter', f\"metadata with contact '{cont_name}'\", rudi_node_info.get_metadata_with_contact(\n    cont_name))\n\nthm = 'citizenship'\nlog_d('Metadata filter', 'metadata with theme', rudi_node_info.get_metadata_with_theme(thm))\nkw = ['répartition', 'Commune']\nlog_d('Metadata filter', f\"metadata with keywords '{kw}'\", rudi_node_info.get_metadata_with_keyword(kw))\n\nmeta_id = 'f48b4bcd-bba3-47ba-86e6-c0754b748728'\nlog_d('Metadata filter', f\"metadata with id '{meta_id}'\", rudi_node_info.get_metadata_with_id(meta_id))",
      "metadata": {},
      "execution_count": null,
      "outputs": []
    },
    {
      "cell_type": "markdown",
      "source": "## Downloading a file\n`RudiNodeGetter` object also provides a method to download the data stored on the node:",
      "metadata": {}
    },
    {
      "cell_type": "code",
      "source": "log_d('Download files', f\"download_media_for_metadata '{meta_id}'\", rudi_node_info.download_media_for_metadata(metadata_id=meta_id, local_download_dir='../1-dwnld'))",
      "metadata": {},
      "execution_count": null,
      "outputs": []
    }
  ]
}